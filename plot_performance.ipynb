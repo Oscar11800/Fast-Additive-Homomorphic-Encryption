{
 "cells": [
  {
   "cell_type": "code",
   "execution_count": null,
   "metadata": {},
   "outputs": [],
   "source": [
    "from fahe1 import dec1, enc1, keygen1\n",
    "from fahe2 import dec2, enc2, keygen2\n",
    "import time, secrets\n",
    "import matplotlib.pyplot as plt"
   ]
  },
  {
   "cell_type": "code",
   "execution_count": null,
   "metadata": {},
   "outputs": [],
   "source": [
    "def lambda_keygen1(lambda_start, lambda_end, lambda_step, m_max, alpha):\n",
    "    lambdas = []\n",
    "    times = []\n",
    "    l = lambda_start\n",
    "    while l <= lambda_end:\n",
    "        lambdas.append(l)\n",
    "        tik = time.time()\n",
    "        k, ek, dk = keygen1(l, m_max, alpha)\n",
    "        tok = time.time()\n",
    "        times.append(tok - tik)\n",
    "        l += lambda_step\n",
    "    return lambdas, times\n",
    "\n",
    "def m_max_keygen1(m_max_start, m_max_end, m_max_step, l, alpha):\n",
    "    m_maxs = []\n",
    "    times = []\n",
    "    m_max = m_max_start\n",
    "    while m_max <= m_max_end:\n",
    "        m_maxs.append(m_max)\n",
    "        tik = time.time()\n",
    "        k, ek, dk = keygen1(l, m_max, alpha)\n",
    "        tok = time.time()\n",
    "        times.append(tok - tik)\n",
    "        m_max += m_max_step\n",
    "    return m_maxs, times\n",
    "\n",
    "def alpha_keygen1(alpha_start, alpha_end, alpha_step, l, m_max):\n",
    "    alphas = []\n",
    "    times = []\n",
    "    alpha = alpha_start\n",
    "    while alpha <= alpha_end:\n",
    "        alphas.append(alpha)\n",
    "        tik = time.time()\n",
    "        k, ek, dk = keygen1(l, m_max, alpha)\n",
    "        tok = time.time()\n",
    "        times.append(tok - tik)\n",
    "        alpha += alpha_step\n",
    "    return alphas, times\n",
    "\n",
    "\n",
    "\n",
    "\n",
    "\n"
   ]
  },
  {
   "cell_type": "code",
   "execution_count": null,
   "metadata": {},
   "outputs": [],
   "source": [
    "def plot_performance(paras, times, x_name, title=None):\n",
    "    plt.plot(times, paras)\n",
    "    plt.xlabel(x_name)\n",
    "    plt.ylabel('time(s)')\n",
    "    plt.title(title)\n",
    "    plt.show()\n",
    "\n"
   ]
  },
  {
   "cell_type": "code",
   "execution_count": null,
   "metadata": {},
   "outputs": [],
   "source": [
    "lambdas, times = lambda_keygen1(1, 100, 1, 32, 6)\n",
    "plot_performance(lambdas, times, 'lambda', 'Plot of lambda against time')"
   ]
  }
 ],
 "metadata": {
  "kernelspec": {
   "display_name": "Python 3",
   "language": "python",
   "name": "python3"
  },
  "language_info": {
   "name": "python",
   "version": "3.12.4"
  }
 },
 "nbformat": 4,
 "nbformat_minor": 2
}
