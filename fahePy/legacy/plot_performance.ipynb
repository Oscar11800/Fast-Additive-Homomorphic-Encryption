{
 "cells": [
  {
   "cell_type": "code",
   "execution_count": null,
   "metadata": {},
   "outputs": [
    {
     "ename": "",
     "evalue": "",
     "output_type": "error",
     "traceback": [
      "\u001b[1;31mRunning cells with 'Python 3.12.4' requires the ipykernel package.\n",
      "\u001b[1;31mRun the following command to install 'ipykernel' into the Python environment. \n",
      "\u001b[1;31mCommand: 'c:/Users/oscar/AppData/Local/Microsoft/WindowsApps/python3.12.exe -m pip install ipykernel -U --user --force-reinstall'"
     ]
    }
   ],
   "source": [
    "from fahe1 import dec1, enc1, keygen1\n",
    "from fahe2 import dec2, enc2, keygen2\n",
    "import time, secrets\n",
    "import matplotlib.pyplot as plt\n",
    "\n",
    "rep = 100"
   ]
  },
  {
   "cell_type": "code",
   "execution_count": null,
   "metadata": {},
   "outputs": [
    {
     "ename": "",
     "evalue": "",
     "output_type": "error",
     "traceback": [
      "\u001b[1;31mRunning cells with 'Python 3.12.4' requires the ipykernel package.\n",
      "\u001b[1;31mRun the following command to install 'ipykernel' into the Python environment. \n",
      "\u001b[1;31mCommand: 'c:/Users/oscar/AppData/Local/Microsoft/WindowsApps/python3.12.exe -m pip install ipykernel -U --user --force-reinstall'"
     ]
    }
   ],
   "source": [
    "def lambda_keygen1(lambda_start, lambda_end, lambda_step, m_max, alpha):\n",
    "    lambdas = []\n",
    "    times = []\n",
    "    l = lambda_start\n",
    "    while l <= lambda_end:\n",
    "        t = []\n",
    "        lambdas.append(l)\n",
    "        for i in range(rep):\n",
    "            tik = time.time()\n",
    "            k, ek, dk = keygen1(l, m_max, alpha)\n",
    "            tok = time.time()\n",
    "            t.append(tok - tik)\n",
    "        times.append(sum(t)/rep)\n",
    "        l += lambda_step\n",
    "    return lambdas, times\n",
    "\n",
    "def m_max_keygen1(m_max_start, m_max_end, m_max_step, l, alpha):\n",
    "    m_maxs = []\n",
    "    times = []\n",
    "    m_max = m_max_start\n",
    "    while m_max <= m_max_end:\n",
    "        t = []\n",
    "        m_maxs.append(m_max)\n",
    "        for i in range(rep):\n",
    "            tik = time.time()\n",
    "            k, ek, dk = keygen1(l, m_max, alpha)\n",
    "            tok = time.time()\n",
    "            t.append(tok - tik)\n",
    "        times.append(sum(t)/rep)\n",
    "        m_max += m_max_step\n",
    "    return m_maxs, times\n",
    "\n",
    "def alpha_keygen1(alpha_start, alpha_end, alpha_step, l, m_max):\n",
    "    alphas = []\n",
    "    times = []\n",
    "    alpha = alpha_start\n",
    "    while alpha <= alpha_end:\n",
    "        t = []\n",
    "        alphas.append(alpha)\n",
    "        for i in range(rep):\n",
    "            tik = time.time()\n",
    "            k, ek, dk = keygen1(l, m_max, alpha)\n",
    "            tok = time.time()\n",
    "            t.append(tok - tik)\n",
    "        times.append(sum(t)/rep)\n",
    "        alpha += alpha_step\n",
    "    return alphas, times\n",
    "\n",
    "\n",
    "\n",
    "\n",
    "\n"
   ]
  },
  {
   "cell_type": "code",
   "execution_count": null,
   "metadata": {},
   "outputs": [
    {
     "ename": "",
     "evalue": "",
     "output_type": "error",
     "traceback": [
      "\u001b[1;31mRunning cells with 'Python 3.12.4' requires the ipykernel package.\n",
      "\u001b[1;31mRun the following command to install 'ipykernel' into the Python environment. \n",
      "\u001b[1;31mCommand: 'c:/Users/oscar/AppData/Local/Microsoft/WindowsApps/python3.12.exe -m pip install ipykernel -U --user --force-reinstall'"
     ]
    }
   ],
   "source": [
    "def lambda_enc1(lambda_start, lambda_end, lambda_step, m_max, alpha, m):\n",
    "    lambdas = []\n",
    "    times = []\n",
    "    l = lambda_start\n",
    "    while l <= lambda_end:\n",
    "        t = []\n",
    "        lambdas.append(l)\n",
    "        for i in range(rep):\n",
    "            k, ek, dk = keygen1(l, m_max, alpha)\n",
    "            tik = time.time()\n",
    "            c = enc1(ek, m)\n",
    "            tok = time.time()\n",
    "            t.append(tok - tik)\n",
    "        times.append(sum(t)/rep)\n",
    "        l += lambda_step\n",
    "    return lambdas, times\n",
    "\n",
    "def m_max_enc1(m_max_start, m_max_end, m_max_step, l, alpha, m):\n",
    "    m_maxs = []\n",
    "    times = []\n",
    "    m_max = m_max_start\n",
    "    while m_max <= m_max_end:\n",
    "        t = []\n",
    "        m_maxs.append(m_max)\n",
    "        for i in range(rep):\n",
    "            k, ek, dk = keygen1(l, m_max, alpha)\n",
    "            tik = time.time()\n",
    "            c = enc1(ek, m)\n",
    "            tok = time.time()\n",
    "            t.append(tok - tik)\n",
    "        times.append(sum(t)/rep)\n",
    "        m_max += m_max_step\n",
    "    return m_maxs, times\n",
    "\n",
    "def alpha_enc1(alpha_start, alpha_end, alpha_step, l, m_max, m):\n",
    "    alphas = []\n",
    "    times = []\n",
    "    alpha = alpha_start\n",
    "    while alpha <= alpha_end:\n",
    "        t = []\n",
    "        alphas.append(alpha)\n",
    "        for i in range(rep):\n",
    "            k, ek, dk = keygen1(l, m_max, alpha)\n",
    "            tik = time.time()\n",
    "            c = enc1(ek, m)\n",
    "            tok = time.time()\n",
    "            t.append(tok - tik)\n",
    "        times.append(sum(t)/rep)\n",
    "        alpha += alpha_step\n",
    "    return alphas, times\n",
    "\n",
    "\n",
    "\n",
    "\n",
    "\n"
   ]
  },
  {
   "cell_type": "code",
   "execution_count": null,
   "metadata": {},
   "outputs": [
    {
     "ename": "",
     "evalue": "",
     "output_type": "error",
     "traceback": [
      "\u001b[1;31mRunning cells with 'Python 3.12.4' requires the ipykernel package.\n",
      "\u001b[1;31mRun the following command to install 'ipykernel' into the Python environment. \n",
      "\u001b[1;31mCommand: 'c:/Users/oscar/AppData/Local/Microsoft/WindowsApps/python3.12.exe -m pip install ipykernel -U --user --force-reinstall'"
     ]
    }
   ],
   "source": [
    "def lambda_dec1(lambda_start, lambda_end, lambda_step, m_max, alpha, m):\n",
    "    lambdas = []\n",
    "    times = []\n",
    "    l = lambda_start\n",
    "    while l <= lambda_end:\n",
    "        t = []\n",
    "        lambdas.append(l)\n",
    "        for i in range(rep):\n",
    "            k, ek, dk = keygen1(l, m_max, alpha)\n",
    "            c = enc1(ek, m)\n",
    "            tik = time.time()\n",
    "            m_outcome = dec1(dk, c)\n",
    "            tok = time.time()\n",
    "            t.append(tok - tik)\n",
    "        times.append(sum(t)/rep)\n",
    "        l += lambda_step\n",
    "    return lambdas, times\n",
    "\n",
    "def m_max_dec1(m_max_start, m_max_end, m_max_step, l, alpha, m):\n",
    "    m_maxs = []\n",
    "    times = []\n",
    "    m_max = m_max_start\n",
    "    while m_max <= m_max_end:\n",
    "        t = []\n",
    "        m_maxs.append(m_max)\n",
    "        for i in range(rep):\n",
    "            k, ek, dk = keygen1(l, m_max, alpha)\n",
    "            c = enc1(ek, m)\n",
    "            tik = time.time()\n",
    "            m_outcome = dec1(dk, c)\n",
    "            tok = time.time()\n",
    "            t.append(tok - tik)\n",
    "        times.append(sum(t)/rep)\n",
    "        m_max += m_max_step\n",
    "    return m_maxs, times\n",
    "\n",
    "def alpha_dec1(alpha_start, alpha_end, alpha_step, l, m_max, m):\n",
    "    alphas = []\n",
    "    times = []\n",
    "    alpha = alpha_start\n",
    "    while alpha <= alpha_end:\n",
    "        t = []\n",
    "        alphas.append(alpha)\n",
    "        for i in range(rep):\n",
    "            k, ek, dk = keygen1(l, m_max, alpha)\n",
    "            c = enc1(ek, m)\n",
    "            tik = time.time()\n",
    "            m_outcome = dec1(dk, c)\n",
    "            tok = time.time()\n",
    "            t.append(tok - tik)\n",
    "        times.append(sum(t)/rep)\n",
    "        alpha += alpha_step\n",
    "    return alphas, times\n",
    "\n",
    "\n",
    "\n",
    "\n",
    "\n"
   ]
  },
  {
   "cell_type": "code",
   "execution_count": null,
   "metadata": {},
   "outputs": [
    {
     "ename": "",
     "evalue": "",
     "output_type": "error",
     "traceback": [
      "\u001b[1;31mRunning cells with 'Python 3.12.4' requires the ipykernel package.\n",
      "\u001b[1;31mRun the following command to install 'ipykernel' into the Python environment. \n",
      "\u001b[1;31mCommand: 'c:/Users/oscar/AppData/Local/Microsoft/WindowsApps/python3.12.exe -m pip install ipykernel -U --user --force-reinstall'"
     ]
    }
   ],
   "source": [
    "def plot_performance(paras, times, x_name, title=None):\n",
    "    plt.plot(paras, times)\n",
    "    plt.xlabel(x_name)\n",
    "    plt.ylabel('time(s)')\n",
    "    plt.title(title)\n",
    "    plt.show()\n",
    "\n"
   ]
  },
  {
   "cell_type": "code",
   "execution_count": null,
   "metadata": {},
   "outputs": [
    {
     "ename": "",
     "evalue": "",
     "output_type": "error",
     "traceback": [
      "\u001b[1;31mRunning cells with 'Python 3.12.4' requires the ipykernel package.\n",
      "\u001b[1;31mRun the following command to install 'ipykernel' into the Python environment. \n",
      "\u001b[1;31mCommand: 'c:/Users/oscar/AppData/Local/Microsoft/WindowsApps/python3.12.exe -m pip install ipykernel -U --user --force-reinstall'"
     ]
    }
   ],
   "source": [
    "lambdas, times = lambda_keygen1(2, 100, 1, 32, 6)\n",
    "plot_performance(lambdas, times, 'lambda', 'Plot of time for key generation against lambda')"
   ]
  },
  {
   "cell_type": "code",
   "execution_count": null,
   "metadata": {},
   "outputs": [
    {
     "ename": "",
     "evalue": "",
     "output_type": "error",
     "traceback": [
      "\u001b[1;31mRunning cells with 'Python 3.12.4' requires the ipykernel package.\n",
      "\u001b[1;31mRun the following command to install 'ipykernel' into the Python environment. \n",
      "\u001b[1;31mCommand: 'c:/Users/oscar/AppData/Local/Microsoft/WindowsApps/python3.12.exe -m pip install ipykernel -U --user --force-reinstall'"
     ]
    }
   ],
   "source": [
    "m_maxs, times = m_max_keygen1(2, 100, 1, 32, 6)\n",
    "plot_performance(m_maxs, times, 'm_max', 'Plot of time for key generation against m_max')"
   ]
  },
  {
   "cell_type": "code",
   "execution_count": null,
   "metadata": {},
   "outputs": [
    {
     "ename": "",
     "evalue": "",
     "output_type": "error",
     "traceback": [
      "\u001b[1;31mRunning cells with 'Python 3.12.4' requires the ipykernel package.\n",
      "\u001b[1;31mRun the following command to install 'ipykernel' into the Python environment. \n",
      "\u001b[1;31mCommand: 'c:/Users/oscar/AppData/Local/Microsoft/WindowsApps/python3.12.exe -m pip install ipykernel -U --user --force-reinstall'"
     ]
    }
   ],
   "source": [
    "alphas, times = alpha_keygen1(2, 100, 1, 32, 32)\n",
    "plot_performance(alphas, times, 'alpha', 'Plot of time for key generation against alpha')"
   ]
  },
  {
   "cell_type": "code",
   "execution_count": null,
   "metadata": {},
   "outputs": [
    {
     "ename": "",
     "evalue": "",
     "output_type": "error",
     "traceback": [
      "\u001b[1;31mRunning cells with 'Python 3.12.4' requires the ipykernel package.\n",
      "\u001b[1;31mRun the following command to install 'ipykernel' into the Python environment. \n",
      "\u001b[1;31mCommand: 'c:/Users/oscar/AppData/Local/Microsoft/WindowsApps/python3.12.exe -m pip install ipykernel -U --user --force-reinstall'"
     ]
    }
   ],
   "source": [
    "m = 2**16 - 1\n",
    "\n",
    "lambdas, times = lambda_enc1(2, 100, 1, 32, 6, m)\n",
    "plot_performance(lambdas, times, 'lambda', 'Plot of time for encryption against lambda')"
   ]
  },
  {
   "cell_type": "code",
   "execution_count": null,
   "metadata": {},
   "outputs": [
    {
     "ename": "",
     "evalue": "",
     "output_type": "error",
     "traceback": [
      "\u001b[1;31mRunning cells with 'Python 3.12.4' requires the ipykernel package.\n",
      "\u001b[1;31mRun the following command to install 'ipykernel' into the Python environment. \n",
      "\u001b[1;31mCommand: 'c:/Users/oscar/AppData/Local/Microsoft/WindowsApps/python3.12.exe -m pip install ipykernel -U --user --force-reinstall'"
     ]
    }
   ],
   "source": [
    "m_maxs, times = m_max_enc1(16, 100, 1, 32, 6, m)\n",
    "plot_performance(m_maxs, times, 'm_max', 'Plot of time for encryption against m_max')"
   ]
  },
  {
   "cell_type": "code",
   "execution_count": null,
   "metadata": {},
   "outputs": [
    {
     "ename": "",
     "evalue": "",
     "output_type": "error",
     "traceback": [
      "\u001b[1;31mRunning cells with 'Python 3.12.4' requires the ipykernel package.\n",
      "\u001b[1;31mRun the following command to install 'ipykernel' into the Python environment. \n",
      "\u001b[1;31mCommand: 'c:/Users/oscar/AppData/Local/Microsoft/WindowsApps/python3.12.exe -m pip install ipykernel -U --user --force-reinstall'"
     ]
    }
   ],
   "source": [
    "alphas, times = alpha_enc1(2, 32, 1, 32, 32, m)\n",
    "plot_performance(alphas, times, 'alpha', 'Plot of time for encryption against alpha')"
   ]
  },
  {
   "cell_type": "code",
   "execution_count": null,
   "metadata": {},
   "outputs": [
    {
     "ename": "",
     "evalue": "",
     "output_type": "error",
     "traceback": [
      "\u001b[1;31mRunning cells with 'Python 3.12.4' requires the ipykernel package.\n",
      "\u001b[1;31mRun the following command to install 'ipykernel' into the Python environment. \n",
      "\u001b[1;31mCommand: 'c:/Users/oscar/AppData/Local/Microsoft/WindowsApps/python3.12.exe -m pip install ipykernel -U --user --force-reinstall'"
     ]
    }
   ],
   "source": [
    "lambdas, times = lambda_dec1(2, 100, 1, 32, 6, m)\n",
    "plot_performance(lambdas, times, 'lambda', 'Plot of time for decryption against lambda')"
   ]
  },
  {
   "cell_type": "code",
   "execution_count": null,
   "metadata": {},
   "outputs": [
    {
     "ename": "",
     "evalue": "",
     "output_type": "error",
     "traceback": [
      "\u001b[1;31mRunning cells with 'Python 3.12.4' requires the ipykernel package.\n",
      "\u001b[1;31mRun the following command to install 'ipykernel' into the Python environment. \n",
      "\u001b[1;31mCommand: 'c:/Users/oscar/AppData/Local/Microsoft/WindowsApps/python3.12.exe -m pip install ipykernel -U --user --force-reinstall'"
     ]
    }
   ],
   "source": [
    "m_maxs, times = m_max_dec1(16, 100, 1, 32, 6, m)\n",
    "plot_performance(m_maxs, times, 'm_max', 'Plot of time for decryption against m_max')"
   ]
  },
  {
   "cell_type": "code",
   "execution_count": null,
   "metadata": {},
   "outputs": [
    {
     "ename": "",
     "evalue": "",
     "output_type": "error",
     "traceback": [
      "\u001b[1;31mRunning cells with 'Python 3.12.4' requires the ipykernel package.\n",
      "\u001b[1;31mRun the following command to install 'ipykernel' into the Python environment. \n",
      "\u001b[1;31mCommand: 'c:/Users/oscar/AppData/Local/Microsoft/WindowsApps/python3.12.exe -m pip install ipykernel -U --user --force-reinstall'"
     ]
    }
   ],
   "source": [
    "alphas, times = alpha_dec1(2, 32, 1, 32, 32, m)\n",
    "plot_performance(alphas, times, 'alpha', 'Plot of time for decryption against alpha')"
   ]
  },
  {
   "cell_type": "code",
   "execution_count": null,
   "metadata": {},
   "outputs": [
    {
     "ename": "",
     "evalue": "",
     "output_type": "error",
     "traceback": [
      "\u001b[1;31mRunning cells with 'Python 3.12.4' requires the ipykernel package.\n",
      "\u001b[1;31mRun the following command to install 'ipykernel' into the Python environment. \n",
      "\u001b[1;31mCommand: 'c:/Users/oscar/AppData/Local/Microsoft/WindowsApps/python3.12.exe -m pip install ipykernel -U --user --force-reinstall'"
     ]
    }
   ],
   "source": [
    "def lambda_c(lambda_start, lambda_end, lambda_step, m_max, alpha, m):\n",
    "    lambdas = []\n",
    "    clengths = []\n",
    "    l = lambda_start\n",
    "    while l <= lambda_end:\n",
    "        lambdas.append(l)\n",
    "        totallength = 0\n",
    "        for i in range(rep):\n",
    "            k, ek, dk = keygen1(l, m_max, alpha)\n",
    "            c = enc1(ek, m)\n",
    "            totallength += c.bit_length()\n",
    "        clengths.append(totallength/rep)\n",
    "        l += lambda_step\n",
    "    return lambdas, clengths\n",
    "\n",
    "def m_max_c(m_max_start, m_max_end, m_max_step, l, alpha, m):\n",
    "    m_maxs = []\n",
    "    clengths = []\n",
    "    m_max = m_max_start\n",
    "    while m_max <= m_max_end:\n",
    "        m_maxs.append(m_max)\n",
    "        totallength = 0\n",
    "        for i in range(rep):\n",
    "            k, ek, dk = keygen1(l, m_max, alpha)\n",
    "            c = enc1(ek, m)\n",
    "            totallength += c.bit_length()\n",
    "        clengths.append(totallength/rep)\n",
    "        m_max += m_max_step\n",
    "    return m_maxs, clengths\n",
    "\n",
    "def alpha_c(alpha_start, alpha_end, alpha_step, l, m_max, m):\n",
    "    alphas = []\n",
    "    clengths = []\n",
    "    alpha = alpha_start\n",
    "    while alpha <= alpha_end:\n",
    "        alphas.append(alpha)\n",
    "        totallength = 0\n",
    "        for i in range(rep):\n",
    "            k, ek, dk = keygen1(l, m_max, alpha)\n",
    "            c = enc1(ek, m)\n",
    "            totallength += c.bit_length()\n",
    "        clengths.append(totallength/rep)\n",
    "        alpha += alpha_step\n",
    "    return alphas, clengths\n",
    "\n",
    "def plot_clengths(paras, clengths, x_name, title=None):\n",
    "    plt.plot(paras, clengths)\n",
    "    plt.xlabel(x_name)\n",
    "    plt.ylabel('ciphertext length in bits')\n",
    "    plt.title(title)\n",
    "    plt.show()\n",
    "\n",
    "\n"
   ]
  },
  {
   "cell_type": "code",
   "execution_count": null,
   "metadata": {},
   "outputs": [
    {
     "ename": "",
     "evalue": "",
     "output_type": "error",
     "traceback": [
      "\u001b[1;31mRunning cells with 'Python 3.12.4' requires the ipykernel package.\n",
      "\u001b[1;31mRun the following command to install 'ipykernel' into the Python environment. \n",
      "\u001b[1;31mCommand: 'c:/Users/oscar/AppData/Local/Microsoft/WindowsApps/python3.12.exe -m pip install ipykernel -U --user --force-reinstall'"
     ]
    }
   ],
   "source": [
    "lambdas, clengths = lambda_c(2, 100, 1, 32, 6, m)\n",
    "plot_clengths(lambdas, clengths, 'lambda', 'Plot of ciphertext length against lambda')\n",
    "\n",
    "m_maxs, clengths = m_max_c(16, 100, 1, 32, 6, m)\n",
    "plot_clengths(m_maxs, clengths, 'm_max', 'Plot of ciphertext length against m_max')\n",
    "\n",
    "alphas, clengths = alpha_c(16, 32, 1, 32, 6, m)\n",
    "plot_clengths(alphas, clengths, 'alpha', 'Plot of ciphertext length against alpha')\n",
    "\n",
    "\n",
    "\n"
   ]
  }
 ],
 "metadata": {
  "kernelspec": {
   "display_name": "Python 3",
   "language": "python",
   "name": "python3"
  },
  "language_info": {
   "codemirror_mode": {
    "name": "ipython",
    "version": 3
   },
   "file_extension": ".py",
   "mimetype": "text/x-python",
   "name": "python",
   "nbconvert_exporter": "python",
   "pygments_lexer": "ipython3",
   "version": "3.12.4"
  }
 },
 "nbformat": 4,
 "nbformat_minor": 2
}
